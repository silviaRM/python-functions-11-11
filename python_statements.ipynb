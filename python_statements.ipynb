{
  "nbformat": 4,
  "nbformat_minor": 0,
  "metadata": {
    "colab": {
      "name": "python-statements.ipynb",
      "provenance": [],
      "authorship_tag": "ABX9TyODyMM5qWXhku7jOpy83D+i",
      "include_colab_link": true
    },
    "kernelspec": {
      "name": "python3",
      "display_name": "Python 3"
    },
    "language_info": {
      "name": "python"
    }
  },
  "cells": [
    {
      "cell_type": "markdown",
      "metadata": {
        "id": "view-in-github",
        "colab_type": "text"
      },
      "source": [
        "<a href=\"https://colab.research.google.com/github/silviaRM/python-functions-11-11/blob/main/python_statements.ipynb\" target=\"_parent\"><img src=\"https://colab.research.google.com/assets/colab-badge.svg\" alt=\"Open In Colab\"/></a>"
      ]
    },
    {
      "cell_type": "markdown",
      "metadata": {
        "id": "ONCxo3y5IMTP"
      },
      "source": [
        "## Introduction to Python\n",
        "### Defining variables\n"
      ]
    },
    {
      "cell_type": "code",
      "metadata": {
        "id": "b-f3nTChHwSP"
      },
      "source": [
        "x = 1"
      ],
      "execution_count": 4,
      "outputs": []
    },
    {
      "cell_type": "markdown",
      "metadata": {
        "id": "s-2qzFc2H_fg"
      },
      "source": [
        "## More interesting stuff\n"
      ]
    },
    {
      "cell_type": "markdown",
      "metadata": {
        "id": "iX-3uqeCIgkM"
      },
      "source": [
        "\n"
      ]
    }
  ]
}