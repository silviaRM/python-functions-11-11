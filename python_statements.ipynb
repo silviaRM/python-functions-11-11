{
  "nbformat": 4,
  "nbformat_minor": 0,
  "metadata": {
    "colab": {
      "name": "python-statements.ipynb",
      "provenance": [],
      "authorship_tag": "ABX9TyOWCouW9mRetECUmO26p0Ii",
      "include_colab_link": true
    },
    "kernelspec": {
      "name": "python3",
      "display_name": "Python 3"
    },
    "language_info": {
      "name": "python"
    }
  },
  "cells": [
    {
      "cell_type": "markdown",
      "metadata": {
        "id": "view-in-github",
        "colab_type": "text"
      },
      "source": [
        "<a href=\"https://colab.research.google.com/github/silviaRM/python-functions-11-11/blob/main/python_statements.ipynb\" target=\"_parent\"><img src=\"https://colab.research.google.com/assets/colab-badge.svg\" alt=\"Open In Colab\"/></a>"
      ]
    },
    {
      "cell_type": "markdown",
      "metadata": {
        "id": "ONCxo3y5IMTP"
      },
      "source": [
        "## Warm-up\n",
        "### Defining variables\n"
      ]
    },
    {
      "cell_type": "code",
      "metadata": {
        "id": "b-f3nTChHwSP"
      },
      "source": [
        "x = 1"
      ],
      "execution_count": 4,
      "outputs": []
    },
    {
      "cell_type": "markdown",
      "metadata": {
        "id": "s-2qzFc2H_fg"
      },
      "source": [
        "## More interesting stuff\n"
      ]
    },
    {
      "cell_type": "code",
      "metadata": {
        "colab": {
          "base_uri": "https://localhost:8080/"
        },
        "id": "WWSF_s4CKVcd",
        "outputId": "b2442575-61e6-4217-d4f1-0634b68a46c0"
      },
      "source": [
        "#!/usr/bin/env python \n",
        "# make it executable chmod \n",
        "\n",
        "print(\"Hello World\")"
      ],
      "execution_count": 5,
      "outputs": [
        {
          "output_type": "stream",
          "name": "stdout",
          "text": [
            "Hello World\n"
          ]
        }
      ]
    },
    {
      "cell_type": "code",
      "metadata": {
        "colab": {
          "base_uri": "https://localhost:8080/"
        },
        "id": "bfdRfNtPLDPX",
        "outputId": "d8101e32-1e8e-4f61-8621-3cf8751da879"
      },
      "source": [
        "for i in range(10):\n",
        "  print(f\"This is the loop number: {i}\")"
      ],
      "execution_count": 6,
      "outputs": [
        {
          "output_type": "stream",
          "name": "stdout",
          "text": [
            "This is the loop number: 0\n",
            "This is the loop number: 1\n",
            "This is the loop number: 2\n",
            "This is the loop number: 3\n",
            "This is the loop number: 4\n",
            "This is the loop number: 5\n",
            "This is the loop number: 6\n",
            "This is the loop number: 7\n",
            "This is the loop number: 8\n",
            "This is the loop number: 9\n"
          ]
        }
      ]
    },
    {
      "cell_type": "markdown",
      "metadata": {
        "id": "K0f8DiUoNfGw"
      },
      "source": [
        "## Dictionaries\n"
      ]
    },
    {
      "cell_type": "code",
      "metadata": {
        "colab": {
          "base_uri": "https://localhost:8080/"
        },
        "id": "HjHyuNaMMrE7",
        "outputId": "b590692e-1836-4c24-a568-27c29a2c3292"
      },
      "source": [
        "my_dict = {\"one\":\"apple\", \"two\":\"eggs\", \"three\":\"butter\"}\n",
        "len(my_dict)\n",
        "my_dict.keys()"
      ],
      "execution_count": 7,
      "outputs": [
        {
          "output_type": "execute_result",
          "data": {
            "text/plain": [
              "dict_keys(['one', 'two', 'three'])"
            ]
          },
          "metadata": {},
          "execution_count": 7
        }
      ]
    },
    {
      "cell_type": "code",
      "metadata": {
        "colab": {
          "base_uri": "https://localhost:8080/"
        },
        "id": "p8LDgNlBNCYP",
        "outputId": "9cadc296-9216-4f1f-f2ee-22f328d21e12"
      },
      "source": [
        "my_dict[\"one\"]\n",
        "\"one\" in my_dict #>> O(1) Lookup - search a million things and return results\n",
        "\"five\" in my_dict\n"
      ],
      "execution_count": 10,
      "outputs": [
        {
          "output_type": "execute_result",
          "data": {
            "text/plain": [
              "False"
            ]
          },
          "metadata": {},
          "execution_count": 10
        }
      ]
    },
    {
      "cell_type": "markdown",
      "metadata": {
        "id": "rjF9LLaJNkmL"
      },
      "source": [
        "### Looping with Dictionaries\n",
        "\n"
      ]
    },
    {
      "cell_type": "code",
      "metadata": {
        "colab": {
          "base_uri": "https://localhost:8080/"
        },
        "id": "PYch6t2eNZkO",
        "outputId": "35ec8d00-d196-4120-d0b7-c7db4e51bc0b"
      },
      "source": [
        "for number, food in my_dict.items():\n",
        "  print(f\"This is the key -  {number}  - and the food is : {food}\")"
      ],
      "execution_count": 12,
      "outputs": [
        {
          "output_type": "stream",
          "name": "stdout",
          "text": [
            "This is the key -  one  - and the food is : apple\n",
            "This is the key -  two  - and the food is : eggs\n",
            "This is the key -  three  - and the food is : butter\n"
          ]
        }
      ]
    },
    {
      "cell_type": "code",
      "metadata": {
        "id": "_Vgz75Q8OMVS"
      },
      "source": [
        ""
      ],
      "execution_count": null,
      "outputs": []
    },
    {
      "cell_type": "markdown",
      "metadata": {
        "id": "41zMSAbGOQpw"
      },
      "source": [
        "## Math\n"
      ]
    },
    {
      "cell_type": "markdown",
      "metadata": {
        "id": "iX-3uqeCIgkM"
      },
      "source": [
        ""
      ]
    },
    {
      "cell_type": "code",
      "metadata": {
        "colab": {
          "base_uri": "https://localhost:8080/"
        },
        "id": "rMKDKomYOxBg",
        "outputId": "7b4fb1c5-f1eb-401e-8e9d-afc511164244"
      },
      "source": [
        "expenses = [5, 90, 200, 2000]\n",
        "sum(expenses)"
      ],
      "execution_count": 13,
      "outputs": [
        {
          "output_type": "execute_result",
          "data": {
            "text/plain": [
              "2295"
            ]
          },
          "metadata": {},
          "execution_count": 13
        }
      ]
    },
    {
      "cell_type": "code",
      "metadata": {
        "colab": {
          "base_uri": "https://localhost:8080/"
        },
        "id": "bgTvnAZhOz3p",
        "outputId": "17ea7f5d-ca73-437a-a501-3ba1b871ae6c"
      },
      "source": [
        "total = 0\n",
        "for x in expenses:\n",
        "  total += x\n",
        "  print(f\"Expense added to TOTAL {total}, EXPENSE {x}\")"
      ],
      "execution_count": 16,
      "outputs": [
        {
          "output_type": "stream",
          "name": "stdout",
          "text": [
            "Expense added to TOTAL 5, EXPENSE 5\n",
            "Expense added to TOTAL 95, EXPENSE 90\n",
            "Expense added to TOTAL 295, EXPENSE 200\n",
            "Expense added to TOTAL 2295, EXPENSE 2000\n"
          ]
        }
      ]
    }
  ]
}