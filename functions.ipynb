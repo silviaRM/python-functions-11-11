{
  "nbformat": 4,
  "nbformat_minor": 0,
  "metadata": {
    "colab": {
      "name": "functions.ipynb",
      "provenance": [],
      "authorship_tag": "ABX9TyNjQp/b4m8rJZ53TKZCw6+K",
      "include_colab_link": true
    },
    "kernelspec": {
      "name": "python3",
      "display_name": "Python 3"
    },
    "language_info": {
      "name": "python"
    }
  },
  "cells": [
    {
      "cell_type": "markdown",
      "metadata": {
        "id": "view-in-github",
        "colab_type": "text"
      },
      "source": [
        "<a href=\"https://colab.research.google.com/github/silviaRM/python-functions-11-11/blob/main/functions.ipynb\" target=\"_parent\"><img src=\"https://colab.research.google.com/assets/colab-badge.svg\" alt=\"Open In Colab\"/></a>"
      ]
    },
    {
      "cell_type": "code",
      "metadata": {
        "id": "vWbeTl-lT5yA"
      },
      "source": [
        ""
      ],
      "execution_count": null,
      "outputs": []
    },
    {
      "cell_type": "markdown",
      "metadata": {
        "id": "vQK1tmzlT8Qk"
      },
      "source": [
        "## Warm-up\n"
      ]
    },
    {
      "cell_type": "code",
      "metadata": {
        "id": "ANWALpENUHZ6"
      },
      "source": [
        "def simple_function(): pass"
      ],
      "execution_count": 1,
      "outputs": []
    },
    {
      "cell_type": "code",
      "metadata": {
        "id": "_LhzQLSRULsB"
      },
      "source": [
        "def simple_function2(): \n",
        "  return 1"
      ],
      "execution_count": 2,
      "outputs": []
    },
    {
      "cell_type": "code",
      "metadata": {
        "colab": {
          "base_uri": "https://localhost:8080/"
        },
        "id": "H-Mii__CUP4e",
        "outputId": "822c064b-0389-43c2-96ac-d28bc72385f4"
      },
      "source": [
        "simple_function2()"
      ],
      "execution_count": 3,
      "outputs": [
        {
          "output_type": "execute_result",
          "data": {
            "text/plain": [
              "1"
            ]
          },
          "metadata": {},
          "execution_count": 3
        }
      ]
    },
    {
      "cell_type": "code",
      "metadata": {
        "colab": {
          "base_uri": "https://localhost:8080/"
        },
        "id": "jGsZ-Ha_UYRi",
        "outputId": "e43b3675-f84f-4bb2-effd-6152f5bbc34e"
      },
      "source": [
        "def add(x,y):\n",
        "  return x+y\n",
        "add(1,1)"
      ],
      "execution_count": 5,
      "outputs": [
        {
          "output_type": "execute_result",
          "data": {
            "text/plain": [
              "2"
            ]
          },
          "metadata": {},
          "execution_count": 5
        }
      ]
    },
    {
      "cell_type": "code",
      "metadata": {
        "colab": {
          "base_uri": "https://localhost:8080/"
        },
        "id": "EUdKnnAlVE4P",
        "outputId": "31abbe23-4d95-42ad-d290-a80068aafa0c"
      },
      "source": [
        "foods = ['apple', 'orange', 'eggs']\n",
        "\n",
        "def complicated_function(my_food):\n",
        "  total = len(my_food)\n",
        "  for i in my_food:\n",
        "    print(f\"I love {i}\")\n",
        "\n",
        "complicated_function(foods)"
      ],
      "execution_count": 7,
      "outputs": [
        {
          "output_type": "stream",
          "name": "stdout",
          "text": [
            "I love apple\n",
            "I love orange\n",
            "I love eggs\n"
          ]
        }
      ]
    },
    {
      "cell_type": "code",
      "metadata": {
        "colab": {
          "base_uri": "https://localhost:8080/"
        },
        "id": "78DCXQhQVkvB",
        "outputId": "6ae2703c-c7d9-4a3d-b0e6-3e4d11b32478"
      },
      "source": [
        "complicated_function(['steak', 'ham'])"
      ],
      "execution_count": 8,
      "outputs": [
        {
          "output_type": "stream",
          "name": "stdout",
          "text": [
            "I love steak\n",
            "I love ham\n"
          ]
        }
      ]
    },
    {
      "cell_type": "code",
      "metadata": {
        "id": "fyvYdCEyXejw"
      },
      "source": [
        ""
      ],
      "execution_count": null,
      "outputs": []
    },
    {
      "cell_type": "markdown",
      "metadata": {
        "id": "hPsXYQJEXfQ8"
      },
      "source": [
        "## Nested functions\n",
        "# nonlocal - means it tracks the state in an outside function\n"
      ]
    },
    {
      "cell_type": "code",
      "metadata": {
        "id": "ToeHAYj_YY2R"
      },
      "source": [
        "from functools import partial"
      ],
      "execution_count": 10,
      "outputs": []
    },
    {
      "cell_type": "code",
      "metadata": {
        "id": "AeC7quOvYkPz"
      },
      "source": [
        ""
      ],
      "execution_count": null,
      "outputs": []
    },
    {
      "cell_type": "markdown",
      "metadata": {
        "id": "xSO7lYVyYwU1"
      },
      "source": [
        "define a function that takes x arguments\n",
        "call it with partial and a lesser number of args that required - will let you run it"
      ]
    },
    {
      "cell_type": "code",
      "metadata": {
        "id": "MnQZzwIcYxSi"
      },
      "source": [
        ""
      ],
      "execution_count": null,
      "outputs": []
    },
    {
      "cell_type": "markdown",
      "metadata": {
        "id": "na3yqskbYySL"
      },
      "source": [
        "## Lazy Evaluation"
      ]
    },
    {
      "cell_type": "code",
      "metadata": {
        "id": "d8KPq0QJY10h"
      },
      "source": [
        "huge_list = [1,100, 1000]\n",
        "#process infinite amounts of data like streams\n",
        "\n",
        "def process():\n",
        "  for num in huge_list:\n",
        "    yield num"
      ],
      "execution_count": 11,
      "outputs": []
    },
    {
      "cell_type": "code",
      "metadata": {
        "colab": {
          "base_uri": "https://localhost:8080/"
        },
        "id": "7cShNAqCZB3m",
        "outputId": "07f4ef7a-d5c9-4e81-fa76-6ec6845b2a49"
      },
      "source": [
        "results = process()\n",
        "type(results)"
      ],
      "execution_count": 12,
      "outputs": [
        {
          "output_type": "execute_result",
          "data": {
            "text/plain": [
              "generator"
            ]
          },
          "metadata": {},
          "execution_count": 12
        }
      ]
    },
    {
      "cell_type": "code",
      "metadata": {
        "colab": {
          "base_uri": "https://localhost:8080/"
        },
        "id": "QX6rrvgYZF-f",
        "outputId": "a8748c84-f352-4220-9b55-a044dadc1a1e"
      },
      "source": [
        "for _ in range(2):\n",
        "  print(next(results))"
      ],
      "execution_count": 13,
      "outputs": [
        {
          "output_type": "stream",
          "name": "stdout",
          "text": [
            "1\n",
            "100\n"
          ]
        }
      ]
    },
    {
      "cell_type": "code",
      "metadata": {
        "id": "KjM-CabSZVFV"
      },
      "source": [
        "def lazy_return_rand_attack():\n",
        "\n",
        "  import random \n",
        "  attacks = {\"kimura\":\"UB\", \"keylock\":\"UB\"}\n",
        "\n",
        "  while True:\n",
        "    random_attack = random.choices(list(attacks.keys()))\n",
        "    yield random_attack"
      ],
      "execution_count": 14,
      "outputs": []
    },
    {
      "cell_type": "code",
      "metadata": {
        "colab": {
          "base_uri": "https://localhost:8080/"
        },
        "id": "J_BZHmImZnvy",
        "outputId": "e69ea417-15a5-4a1b-dafe-40a1e652e9f4"
      },
      "source": [
        "attack = lazy_return_rand_attack()\n",
        "\n",
        "for _ in range(3):\n",
        "  print(next(attack))"
      ],
      "execution_count": 18,
      "outputs": [
        {
          "output_type": "stream",
          "name": "stdout",
          "text": [
            "['kimura']\n",
            "['kimura']\n",
            "['kimura']\n"
          ]
        }
      ]
    }
  ]
}